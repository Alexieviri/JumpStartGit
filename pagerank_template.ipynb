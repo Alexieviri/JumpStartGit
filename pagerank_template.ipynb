{
  "nbformat": 4,
  "nbformat_minor": 0,
  "metadata": {
    "kernelspec": {
      "display_name": "Python 3",
      "language": "python",
      "name": "python3"
    },
    "language_info": {
      "codemirror_mode": {
        "name": "ipython",
        "version": 3
      },
      "file_extension": ".py",
      "mimetype": "text/x-python",
      "name": "python",
      "nbconvert_exporter": "python",
      "pygments_lexer": "ipython3",
      "version": "3.6.9"
    },
    "colab": {
      "name": "pagerank_template.ipynb",
      "provenance": []
    }
  },
  "cells": [
    {
      "cell_type": "markdown",
      "metadata": {
        "id": "ZuV9MAiOk5Of"
      },
      "source": [
        "# PageRank на Spark RDD"
      ]
    },
    {
      "cell_type": "markdown",
      "metadata": {
        "id": "BdHlDbxzk5Og"
      },
      "source": [
        "### Шаг №1\n",
        "Создайте `SparkContext`"
      ]
    },
    {
      "cell_type": "code",
      "metadata": {
        "id": "FTK0HR5Rk5Og"
      },
      "source": [
        "import random\n",
        "SPARK_UI_PORT = random.choice(range(10000, 10200))\n",
        "print(f\"Spark UI port: {SPARK_UI_PORT}\")"
      ],
      "execution_count": null,
      "outputs": []
    },
    {
      "cell_type": "code",
      "metadata": {
        "id": "kWwNANEuk5Oh"
      },
      "source": [
        "from pyspark import SparkConf, SparkContext"
      ],
      "execution_count": null,
      "outputs": []
    },
    {
      "cell_type": "code",
      "metadata": {
        "id": "joMikYi1k5Oh"
      },
      "source": [
        "conf = SparkConf()\n",
        "conf.set(\"spark.ui.port\", SPARK_UI_PORT)\n",
        "conf.set(\"spark.driver.memory\", \"512m\")\n",
        "conf.set(\"spark.executor.instances\", \"2\")\n",
        "conf.set(\"spark.executor.cores\", \"1\")\n",
        "\n",
        "sc = SparkContext(master=\"yarn\", conf=conf)"
      ],
      "execution_count": null,
      "outputs": []
    },
    {
      "cell_type": "markdown",
      "metadata": {
        "id": "Rak-mMoYk5Oh"
      },
      "source": [
        "### Шаг №2\n",
        "1. Прочитайте граф из файла `/data/spark/lecture05/graph.tsv`\n",
        "2. Создайте RDD, в которой граф будет представлен парами вершин\n",
        "3. Убедитесь, что граф совпадает с рисунком на доске"
      ]
    },
    {
      "cell_type": "code",
      "metadata": {
        "id": "qoLFHV0nk5Oh"
      },
      "source": [
        "# Ваш код здесь"
      ],
      "execution_count": null,
      "outputs": []
    },
    {
      "cell_type": "markdown",
      "metadata": {
        "id": "BfS4Zlv0k5Oi"
      },
      "source": [
        "### Шаг №3\n",
        "Создайте RDD с первоначальными pagerank всех уникальных вершин"
      ]
    },
    {
      "cell_type": "code",
      "metadata": {
        "id": "rmgPXyKsk5Oi"
      },
      "source": [
        "# Ваш код здесь"
      ],
      "execution_count": null,
      "outputs": []
    },
    {
      "cell_type": "markdown",
      "metadata": {
        "id": "uCJw8c_wk5Oi"
      },
      "source": [
        "### Шаг №4\n",
        "Создайте RDD, которая берет RDD с вершинами, объединяет ее с RDD с pagerank. В результате должна получится PairRDD, где ключ - это уникальная вершина, а значение - это все вершины, на которые она ссылаются и ее текущий pagerank"
      ]
    },
    {
      "cell_type": "code",
      "metadata": {
        "id": "hyU1_DfVk5Oj"
      },
      "source": [
        "# Ваш код здесь"
      ],
      "execution_count": null,
      "outputs": []
    },
    {
      "cell_type": "markdown",
      "metadata": {
        "id": "ShalCBcTk5Oj"
      },
      "source": [
        "### Шаг №5\n",
        "Реализуйте функцию, которая рассчитывает pagerank для всех вершин, на которые ссылается данная вершина. Функция должна быть итератором, который возвращает вершину и ее pagerank"
      ]
    },
    {
      "cell_type": "code",
      "metadata": {
        "id": "BCvEXbrnk5Oj"
      },
      "source": [
        "# Ваш код здесь"
      ],
      "execution_count": null,
      "outputs": []
    },
    {
      "cell_type": "markdown",
      "metadata": {
        "id": "NezKnQyJk5Oj"
      },
      "source": [
        "### Шаг №6\n",
        "Обновите RDD с pagerank значениями, посчитанными с помощью функции из предыдущего шага"
      ]
    },
    {
      "cell_type": "code",
      "metadata": {
        "id": "xhgJi66fk5Ok"
      },
      "source": [
        "# Ваш код здесь"
      ],
      "execution_count": null,
      "outputs": []
    },
    {
      "cell_type": "markdown",
      "metadata": {
        "id": "PSgnoxJyk5Ok"
      },
      "source": [
        "### Шаг №7\n",
        "Напишите цикл, который проводит несколько итераций вычисления pagerank и на каждой печатает номер итерации и текущие pagerank"
      ]
    },
    {
      "cell_type": "code",
      "metadata": {
        "id": "a9AFJJPKk5Ok"
      },
      "source": [
        "# Ваш код здесь"
      ],
      "execution_count": null,
      "outputs": []
    },
    {
      "cell_type": "markdown",
      "metadata": {
        "id": "EK4LDtqBk5Ok"
      },
      "source": [
        "### Шаг №8\n",
        "Не забудьте остановить SparkContext"
      ]
    },
    {
      "cell_type": "code",
      "metadata": {
        "id": "cH8tVRRxk5Ok"
      },
      "source": [
        "sc.stop()"
      ],
      "execution_count": null,
      "outputs": []
    },
    {
      "cell_type": "code",
      "metadata": {
        "id": "wZMWKT2_k5Ok"
      },
      "source": [
        ""
      ],
      "execution_count": null,
      "outputs": []
    }
  ]
}